{
 "cells": [
  {
   "cell_type": "code",
   "execution_count": 5,
   "id": "1c98245b-2c7c-4b58-b1d2-9f21c7d97fa6",
   "metadata": {},
   "outputs": [
    {
     "name": "stdout",
     "output_type": "stream",
     "text": [
      "ramu somu raju\n"
     ]
    }
   ],
   "source": [
    "class engineering:\n",
    "    def vikas(self,n1,n2,n3):\n",
    "        self.n1=n1\n",
    "        self.n2=n2\n",
    "        self.n3=n3\n",
    "        print(n1,n2,n3)\n",
    "obj=engineering()\n",
    "obj.vikas(\"ramu\",\"somu\",\"raju\")"
   ]
  },
  {
   "cell_type": "code",
   "execution_count": null,
   "id": "1c99911e-619c-4ac6-80d4-a52024203cf4",
   "metadata": {},
   "outputs": [],
   "source": []
  }
 ],
 "metadata": {
  "kernelspec": {
   "display_name": "Python 3 (ipykernel)",
   "language": "python",
   "name": "python3"
  },
  "language_info": {
   "codemirror_mode": {
    "name": "ipython",
    "version": 3
   },
   "file_extension": ".py",
   "mimetype": "text/x-python",
   "name": "python",
   "nbconvert_exporter": "python",
   "pygments_lexer": "ipython3",
   "version": "3.11.7"
  }
 },
 "nbformat": 4,
 "nbformat_minor": 5
}
