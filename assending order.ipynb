{
 "cells": [
  {
   "cell_type": "code",
   "execution_count": 6,
   "id": "ab72a873-e99b-44de-a6d4-fd1393ee88c9",
   "metadata": {},
   "outputs": [
    {
     "name": "stdin",
     "output_type": "stream",
     "text": [
      " 5\n",
      " 2\n",
      " 3\n",
      " 1\n",
      " 4\n",
      " 6\n"
     ]
    },
    {
     "name": "stdout",
     "output_type": "stream",
     "text": [
      "1\n",
      "2\n",
      "3\n",
      "4\n",
      "6\n"
     ]
    }
   ],
   "source": [
    "n=int(input().strip())\n",
    "arr=[int(input().strip()) for i in range(n)]\n",
    "temp=0\n",
    "for i in range (0,n):\n",
    "    for j in range(i,n):\n",
    "        if(arr[i]>arr[j]):\n",
    "          temp=arr[i]\n",
    "          arr[i]=arr[j]\n",
    "          arr[j]=temp\n",
    "for i in range(0,n):\n",
    "    print(arr[i])"
   ]
  },
  {
   "cell_type": "code",
   "execution_count": null,
   "id": "b4a3bfb5-3612-4313-8f5f-bf9fc7f5909c",
   "metadata": {},
   "outputs": [],
   "source": []
  }
 ],
 "metadata": {
  "kernelspec": {
   "display_name": "Python 3 (ipykernel)",
   "language": "python",
   "name": "python3"
  },
  "language_info": {
   "codemirror_mode": {
    "name": "ipython",
    "version": 3
   },
   "file_extension": ".py",
   "mimetype": "text/x-python",
   "name": "python",
   "nbconvert_exporter": "python",
   "pygments_lexer": "ipython3",
   "version": "3.11.7"
  }
 },
 "nbformat": 4,
 "nbformat_minor": 5
}
